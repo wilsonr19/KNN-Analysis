{
 "cells": [
  {
   "cell_type": "markdown",
   "metadata": {},
   "source": [
    "# K-Nearest Neighbour Algorithm"
   ]
  },
  {
   "cell_type": "markdown",
   "metadata": {},
   "source": [
    "## FORMULAS USED:\n",
    "Euclidean Distance Formula:\n",
    "Distance between any two points (x1,y1) and (x2,y2) is given by\n",
    "sqrt[(x2-x1)2 + (y2-y1)2]\n"
   ]
  },
  {
   "cell_type": "markdown",
   "metadata": {},
   "source": [
    "## ALGORITHM:\n",
    "Step 1 − Load the training and test data.\n",
    "\n",
    "Step 2 − Choose the value of K i.e. the nearest data points. K can be any integer (preferably not 1, but any other odd value)\n",
    "\n",
    "Step 3 − For each point in the test data do the following −\n",
    "•\t3.1 − Calculate the distance between test data and each row of training data with Euclidean Distance Formula.\n",
    "3.2 − Based on the distance value, sort them in ascending order.\n",
    "•\t3.3 − Next, it will choose the top K rows from the sorted array.\n",
    "•\t3.4 –Compute the average of sum of the preceding rows and calculate the percentage error. The predicted value corresponds to the value with the least percentage error.\n",
    "\n",
    "Step 4 − End\n"
   ]
  },
  {
   "cell_type": "code",
   "execution_count": 25,
   "metadata": {},
   "outputs": [],
   "source": [
    "import math"
   ]
  },
  {
   "cell_type": "code",
   "execution_count": 26,
   "metadata": {},
   "outputs": [
    {
     "data": {
      "text/plain": [
       "[[10, 3, 2, 45, 6],\n",
       " [12, 4, 23, 56, 7],\n",
       " [9, 6, 7, 4, 3],\n",
       " [10, 20, 30, 40, 50],\n",
       " [34, 21, 5, 7, 8]]"
      ]
     },
     "execution_count": 26,
     "metadata": {},
     "output_type": "execute_result"
    }
   ],
   "source": [
    "train_data=[\n",
    "    [10,3,2,45,6],\n",
    "    [12,4,23,56,7],\n",
    "    [9,6,7,4,3],\n",
    "    [10,20,30,40,50],\n",
    "    [34,21,5,7,8],\n",
    "]\n",
    "train_data\n",
    "#print(train_data)"
   ]
  },
  {
   "cell_type": "code",
   "execution_count": 27,
   "metadata": {},
   "outputs": [],
   "source": [
    "test_data=[\n",
    "    [2,5,8,1]\n",
    "    \n",
    "]\n",
    "test_data\n",
    "k=5\n",
    "distance_col=[]\n",
    "distance=0\n",
    "#print(test_data)"
   ]
  },
  {
   "cell_type": "code",
   "execution_count": 28,
   "metadata": {},
   "outputs": [
    {
     "name": "stdout",
     "output_type": "stream",
     "text": [
      "[2, 4, 0, 3, 1]\n"
     ]
    }
   ],
   "source": [
    "for test in test_data:\n",
    "    #print(test)\n",
    "    for train in train_data:\n",
    "        #print(train)\n",
    "        for col in range(len(train)-1):\n",
    "            #print(col)\n",
    "            diff=(test[col]-train[col])**2\n",
    "            #print(diff)\n",
    "            distance=distance+diff\n",
    "            #print(sqrt)\n",
    "        distance=math.sqrt(distance)\n",
    "        #print(distance)\n",
    "        distance_col.append(distance)\n",
    "        #print(distance_col)\n",
    "        distance=0\n",
    "    dist_copy=distance_col.copy()\n",
    "    dist_copy.sort()\n",
    "    dist_indices=[distance_col.index(index_val) for index_val in dist_copy]\n",
    "    dist_ind=dist_indices[0:k]\n",
    "    print(dist_ind)\n",
    "    prediction=sum([train_data[i][len(train_data[i])-1] for i in dist_ind])/k\n",
    "          \n",
    "            "
   ]
  },
  {
   "cell_type": "code",
   "execution_count": 24,
   "metadata": {},
   "outputs": [
    {
     "name": "stdout",
     "output_type": "stream",
     "text": [
      "3.0\n"
     ]
    }
   ],
   "source": [
    "print(prediction)"
   ]
  },
  {
   "cell_type": "code",
   "execution_count": null,
   "metadata": {},
   "outputs": [],
   "source": [
    "            "
   ]
  },
  {
   "cell_type": "code",
   "execution_count": null,
   "metadata": {},
   "outputs": [],
   "source": []
  }
 ],
 "metadata": {
  "kernelspec": {
   "display_name": "Python 3",
   "language": "python",
   "name": "python3"
  },
  "language_info": {
   "codemirror_mode": {
    "name": "ipython",
    "version": 3
   },
   "file_extension": ".py",
   "mimetype": "text/x-python",
   "name": "python",
   "nbconvert_exporter": "python",
   "pygments_lexer": "ipython3",
   "version": "3.7.3"
  }
 },
 "nbformat": 4,
 "nbformat_minor": 2
}
